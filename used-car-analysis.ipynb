{
 "cells": [
  {
   "cell_type": "markdown",
   "id": "690f926e",
   "metadata": {},
   "source": [
    "<p> Connecting SQL Database to program </p>"
   ]
  },
  {
   "cell_type": "code",
   "execution_count": 43,
   "id": "5761f5b2",
   "metadata": {},
   "outputs": [],
   "source": [
    "import mysql.connector as sql\n",
    "\n",
    "conn = sql.connect(\n",
    "    host='localhost',\n",
    "    user='root',\n",
    "    password='password',\n",
    "    database='usedcardata',\n",
    "    use_pure=True\n",
    ")\n"
   ]
  },
  {
   "cell_type": "markdown",
   "id": "187aab2a",
   "metadata": {},
   "source": [
    "<p> Storing it into a Dataframe </p>"
   ]
  },
  {
   "cell_type": "code",
   "execution_count": null,
   "id": "0084cbca",
   "metadata": {},
   "outputs": [
    {
     "name": "stdout",
     "output_type": "stream",
     "text": [
      "      make_year mileage_kmpl  engine_cc fuel_type  owner_count price_usd  \\\n",
      "0          2001         8.17       4000    Petrol            4   8587.64   \n",
      "1          2014        17.59       1500    Petrol            4    5943.5   \n",
      "2          2023        18.09       2500    Diesel            5   9273.58   \n",
      "3          2009        11.28        800    Petrol            1   6836.24   \n",
      "4          2005        12.23       1000    Petrol            2   4625.79   \n",
      "...         ...          ...        ...       ...          ...       ...   \n",
      "9995       1996        15.25       1500    Petrol            2   5498.71   \n",
      "9996       1997        14.45       5000    Diesel            1   9588.31   \n",
      "9997       2002        19.41       1000    Diesel            4    4557.1   \n",
      "9998       2005        12.95       4000    Petrol            5   7413.59   \n",
      "9999       2007        18.81       5000    Petrol            1  11634.09   \n",
      "\n",
      "          brand transmission   color service_history  accident_reports  \\\n",
      "0     Chevrolet       Manual   White            None                 0   \n",
      "1         Honda       Manual   Black            None                 0   \n",
      "2           BMW    Automatic   Black            Full                 1   \n",
      "3       Hyundai       Manual    Blue            Full                 0   \n",
      "4        Nissan    Automatic     Red            Full                 0   \n",
      "...         ...          ...     ...             ...               ...   \n",
      "9995    Hyundai       Manual  Silver            None                 0   \n",
      "9996      Honda       Manual    Gray            Full                 0   \n",
      "9997        Kia       Manual   Black            Full                 0   \n",
      "9998        BMW    Automatic    Blue            Full                 0   \n",
      "9999        BMW    Automatic  Silver            Full                 0   \n",
      "\n",
      "     insurance  \n",
      "0           No  \n",
      "1          Yes  \n",
      "2          Yes  \n",
      "3          Yes  \n",
      "4          Yes  \n",
      "...        ...  \n",
      "9995       Yes  \n",
      "9996       Yes  \n",
      "9997       Yes  \n",
      "9998       Yes  \n",
      "9999       Yes  \n",
      "\n",
      "[10000 rows x 12 columns]\n"
     ]
    }
   ],
   "source": [
    "import pandas as pd\n",
    "\n",
    "cursor=conn.cursor()\n",
    "\n",
    "query = \"select * from new_table\"\n",
    "cursor.execute(query)\n",
    "\n",
    "#Get data and column names\n",
    "rows = cursor.fetchall()\n",
    "columns = cursor.column_names\n",
    "\n",
    "df = pd.DataFrame(rows, columns=columns)\n",
    "\n",
    "print(df)\n",
    "\n",
    "conn.close()"
   ]
  }
 ],
 "metadata": {
  "kernelspec": {
   "display_name": ".venv",
   "language": "python",
   "name": "python3"
  },
  "language_info": {
   "codemirror_mode": {
    "name": "ipython",
    "version": 3
   },
   "file_extension": ".py",
   "mimetype": "text/x-python",
   "name": "python",
   "nbconvert_exporter": "python",
   "pygments_lexer": "ipython3",
   "version": "3.12.10"
  }
 },
 "nbformat": 4,
 "nbformat_minor": 5
}
